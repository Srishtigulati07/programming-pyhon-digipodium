{
 "cells": [
  {
   "cell_type": "markdown",
   "metadata": {},
   "source": [
    "- creation\n",
    "- indexing and slicing\n",
    "- methods\n"
   ]
  },
  {
   "cell_type": "code",
   "execution_count": 314,
   "metadata": {},
   "outputs": [
    {
     "name": "stdout",
     "output_type": "stream",
     "text": [
      "okokokokokokokokokok\n",
      "100 <class 'str'>\n"
     ]
    }
   ],
   "source": [
    "s = \"hello\"\n",
    "s1 = 'world'\n",
    "msg= ''' this is a message \n",
    "with multiple lines '''\n",
    "w= 'ok' * 10\n",
    "print(w)\n",
    "a = 100\n",
    "b = str(a)\n",
    "print(b, type (b))"
   ]
  },
  {
   "cell_type": "code",
   "execution_count": 315,
   "metadata": {},
   "outputs": [
    {
     "name": "stdout",
     "output_type": "stream",
     "text": [
      "from turtle import*\n",
      "\n",
      "speed('fastest')\n",
      "pensize(2)\n",
      "bgcolor ('black')\n",
      "pencolor('white')\n",
      "colors=['red', 'yellow','blue','green','orange','purple' ]\n",
      "side=6\n",
      "for i in range(side):\n",
      "    fd(200)\n",
      "    for i in  range(side):\n",
      "        fd(100)\n",
      "        lt(360/side)\n",
      "        begin_fill( ) \n",
      "        fillcolor(colors[i%6]) \n",
      "        for i in range(side):\n",
      "            fd(50)\n",
      "            lt(360/side)\n",
      "        end_fill()\n",
      "    lt(360/side)\n",
      "\n",
      "hideturtle()\n",
      "mainloop()\n",
      " \n",
      "\n"
     ]
    }
   ],
   "source": [
    "data= open ('t4.ipy').read()\n",
    "print(data)"
   ]
  },
  {
   "cell_type": "code",
   "execution_count": 316,
   "metadata": {},
   "outputs": [
    {
     "name": "stdout",
     "output_type": "stream",
     "text": [
      "h\n",
      "e\n",
      "l\n",
      "l\n",
      "o\n",
      "o\n",
      "l\n"
     ]
    }
   ],
   "source": [
    "print(s[0])\n",
    "print(s[1])\n",
    "print(s[2])\n",
    "print(s[3])\n",
    "print(s[4])\n",
    "print(s[-1])\n",
    "print(s[-2])"
   ]
  },
  {
   "cell_type": "code",
   "execution_count": 317,
   "metadata": {},
   "outputs": [],
   "source": [
    "name = 'william shakespeare'\n"
   ]
  },
  {
   "cell_type": "code",
   "execution_count": 318,
   "metadata": {},
   "outputs": [
    {
     "name": "stdout",
     "output_type": "stream",
     "text": [
      "100\n",
      "will\n",
      "shakespeare\n",
      "william shakespeare\n",
      "wlimsaepae\n",
      "eraepsekahs mailliw\n",
      "william shakespeare\n",
      "waae\n"
     ]
    }
   ],
   "source": [
    "name [8:-6]\n",
    "print(a)\n",
    "b= name [:4]\n",
    "print(b)\n",
    "c = name [8:]\n",
    "print(c)\n",
    "d = name[:]\n",
    "print (d)\n",
    "e = name[::2]\n",
    "print(e)\n",
    "f = name [::-1]\n",
    "print (f)\n",
    "g = name [:: 1]\n",
    "print(g)\n",
    "h = name [:: 5]\n",
    "print (h) "
   ]
  },
  {
   "cell_type": "code",
   "execution_count": 319,
   "metadata": {},
   "outputs": [
    {
     "data": {
      "text/plain": [
       "'william shakesp'"
      ]
     },
     "execution_count": 319,
     "metadata": {},
     "output_type": "execute_result"
    }
   ],
   "source": [
    "name[0:-4]"
   ]
  },
  {
   "cell_type": "code",
   "execution_count": 320,
   "metadata": {},
   "outputs": [
    {
     "data": {
      "text/plain": [
       "'liam shak'"
      ]
     },
     "execution_count": 320,
     "metadata": {},
     "output_type": "execute_result"
    }
   ],
   "source": [
    "name [ 3:-7]"
   ]
  },
  {
   "cell_type": "code",
   "execution_count": 321,
   "metadata": {},
   "outputs": [
    {
     "data": {
      "text/plain": [
       "19"
      ]
     },
     "execution_count": 321,
     "metadata": {},
     "output_type": "execute_result"
    }
   ],
   "source": [
    "len(name)\n"
   ]
  },
  {
   "cell_type": "markdown",
   "metadata": {},
   "source": [
    "methods \n",
    "    - utility method\n",
    "        - count\n",
    "        - find\n",
    "        - replace\n",
    "        - split\n",
    "        - join\n",
    "        - strip \n",
    "    - formatting methods\n",
    "      - capatilize\n",
    "      - title\n",
    "      - upper\n",
    "      - lower\n",
    "      -swapcase\n",
    "      - casefold\n",
    "    - validation method\n",
    "      -isalnum\n",
    "      -isalpha\n",
    "      -isdigit\n",
    "      -islower\n",
    "      -isupper\n",
    "      -istitle\n",
    "      -isspace"
   ]
  },
  {
   "cell_type": "code",
   "execution_count": 322,
   "metadata": {},
   "outputs": [
    {
     "name": "stdout",
     "output_type": "stream",
     "text": [
      "9\n",
      "2\n",
      "1\n"
     ]
    }
   ],
   "source": [
    "msg= '''this is a story about a kingdom of \n",
    "south india lead by the hoyasala dynasty kings .'''\n",
    "\n",
    "print(msg.count('a'))\n",
    "print(msg.count('out'))\n",
    "print(msg.count('the'))\n"
   ]
  },
  {
   "cell_type": "code",
   "execution_count": 323,
   "metadata": {},
   "outputs": [
    {
     "name": "stdout",
     "output_type": "stream",
     "text": [
      "25\n"
     ]
    }
   ],
   "source": [
    "total_vowels = msg.count('a') + msg.count('e') + msg.count('i') + msg.count('o') + msg.count('u')\n",
    "print(total_vowels)"
   ]
  },
  {
   "cell_type": "code",
   "execution_count": 324,
   "metadata": {},
   "outputs": [
    {
     "name": "stdout",
     "output_type": "stream",
     "text": [
      "25\n"
     ]
    }
   ],
   "source": [
    "tvs = 0 \n",
    "for c in 'aeiou':\n",
    "    tvs += msg.count(c)\n",
    "print(tvs)"
   ]
  },
  {
   "cell_type": "code",
   "execution_count": 325,
   "metadata": {},
   "outputs": [
    {
     "data": {
      "text/plain": [
       "10"
      ]
     },
     "execution_count": 325,
     "metadata": {},
     "output_type": "execute_result"
    }
   ],
   "source": [
    "msg.find('story')"
   ]
  },
  {
   "cell_type": "code",
   "execution_count": 326,
   "metadata": {},
   "outputs": [
    {
     "data": {
      "text/plain": [
       "37"
      ]
     },
     "execution_count": 326,
     "metadata": {},
     "output_type": "execute_result"
    }
   ],
   "source": [
    "msg.find('out',19)"
   ]
  },
  {
   "cell_type": "code",
   "execution_count": 327,
   "metadata": {},
   "outputs": [
    {
     "data": {
      "text/plain": [
       "'this is a story abin a kingdom of \\nsinh india lead by the hoyasala dynasty kings .'"
      ]
     },
     "execution_count": 327,
     "metadata": {},
     "output_type": "execute_result"
    }
   ],
   "source": [
    "msg.replace('out', 'in')"
   ]
  },
  {
   "cell_type": "code",
   "execution_count": 328,
   "metadata": {},
   "outputs": [
    {
     "data": {
      "text/plain": [
       "'this is  story bout  kingdom of \\nsouth indi led by the hoysl dynsty kings .'"
      ]
     },
     "execution_count": 328,
     "metadata": {},
     "output_type": "execute_result"
    }
   ],
   "source": [
    "msg.replace('a', '')"
   ]
  },
  {
   "cell_type": "code",
   "execution_count": 4,
   "metadata": {},
   "outputs": [
    {
     "data": {
      "text/plain": [
       "['this', 'is', 'a', 'message']"
      ]
     },
     "execution_count": 4,
     "metadata": {},
     "output_type": "execute_result"
    }
   ],
   "source": [
    "data=\"this is a message\"\n",
    "data.split()"
   ]
  },
  {
   "cell_type": "code",
   "execution_count": 5,
   "metadata": {},
   "outputs": [],
   "source": [
    "quote='''life before death \n",
    "strength before weakness,\n",
    "journey before destination'''"
   ]
  },
  {
   "cell_type": "code",
   "execution_count": 6,
   "metadata": {},
   "outputs": [
    {
     "data": {
      "text/plain": [
       "['life before death \\nstrength before weakness',\n",
       " '\\njourney before destination']"
      ]
     },
     "execution_count": 6,
     "metadata": {},
     "output_type": "execute_result"
    }
   ],
   "source": [
    "quote.split(',')"
   ]
  },
  {
   "cell_type": "code",
   "execution_count": 7,
   "metadata": {},
   "outputs": [
    {
     "data": {
      "text/plain": [
       "['life before death ',\n",
       " 'strength before weakness,',\n",
       " 'journey before destination']"
      ]
     },
     "execution_count": 7,
     "metadata": {},
     "output_type": "execute_result"
    }
   ],
   "source": [
    "quote.splitlines()"
   ]
  },
  {
   "cell_type": "code",
   "execution_count": 9,
   "metadata": {},
   "outputs": [
    {
     "data": {
      "text/plain": [
       "'hi there how are you'"
      ]
     },
     "execution_count": 9,
     "metadata": {},
     "output_type": "execute_result"
    }
   ],
   "source": [
    "msg=['hi','there','how','are','you']\n",
    "' '.join(msg)"
   ]
  },
  {
   "cell_type": "code",
   "execution_count": 10,
   "metadata": {},
   "outputs": [
    {
     "data": {
      "text/plain": [
       "'hi_there_how_are_you'"
      ]
     },
     "execution_count": 10,
     "metadata": {},
     "output_type": "execute_result"
    }
   ],
   "source": [
    "'_'.join(msg)"
   ]
  },
  {
   "cell_type": "code",
   "execution_count": 16,
   "metadata": {},
   "outputs": [
    {
     "name": "stdout",
     "output_type": "stream",
     "text": [
      "12\n",
      "john cena\n",
      "9\n"
     ]
    }
   ],
   "source": [
    "x =' john cena  '\n",
    "print(len(x))\n",
    "x= x.strip()\n",
    "print(x)\n",
    "print(len(x))"
   ]
  },
  {
   "cell_type": "code",
   "execution_count": 19,
   "metadata": {},
   "outputs": [
    {
     "name": "stdout",
     "output_type": "stream",
     "text": [
      "Help on built-in function eval in module builtins:\n",
      "\n",
      "eval(source, globals=None, locals=None, /)\n",
      "    Evaluate the given source in the context of globals and locals.\n",
      "    \n",
      "    The source may be a string representing a Python expression\n",
      "    or a code object as returned by compile().\n",
      "    The globals must be a dictionary and locals can be any mapping,\n",
      "    defaulting to the current globals and locals.\n",
      "    If only globals is given, locals defaults to it.\n",
      "\n"
     ]
    }
   ],
   "source": [
    "help (eval)"
   ]
  },
  {
   "cell_type": "code",
   "execution_count": 21,
   "metadata": {},
   "outputs": [
    {
     "name": "stdout",
     "output_type": "stream",
     "text": [
      "SRISHTI GULATI\n",
      "srishti gulati\n",
      "Srishti gulati\n",
      "Srishti Gulati\n",
      "SRISHTI GULATI\n",
      "srishti gulati\n"
     ]
    }
   ],
   "source": [
    "name = 'srishti gulati'\n",
    "print(name.upper())\n",
    "print(name.lower())\n",
    "print(name.capitalize())\n",
    "print(name.title())\n",
    "print(name.swapcase())\n",
    "print(name.casefold())"
   ]
  },
  {
   "cell_type": "code",
   "execution_count": 25,
   "metadata": {},
   "outputs": [
    {
     "name": "stdout",
     "output_type": "stream",
     "text": [
      "False\n",
      "False\n",
      "True\n",
      "False\n",
      "True\n",
      "False\n",
      "True\n"
     ]
    }
   ],
   "source": [
    "x='567890'\n",
    "print(x.islower())\n",
    "print(x.isupper())\n",
    "print(x.isnumeric())\n",
    "print(x.isalpha())\n",
    "print(x.isalnum())\n",
    "print(x.isspace())\n",
    "print(x.isprintable())"
   ]
  },
  {
   "cell_type": "markdown",
   "metadata": {},
   "source": [
    "**wap tpo take a string from user then print only the words then print only the words that are even indexed**\n",
    "  \n",
    "  ex input:this is a very important day \n",
    "  output=this a important"
   ]
  },
  {
   "cell_type": "code",
   "execution_count": 27,
   "metadata": {},
   "outputs": [
    {
     "data": {
      "text/plain": [
       "'this important'"
      ]
     },
     "execution_count": 27,
     "metadata": {},
     "output_type": "execute_result"
    }
   ],
   "source": [
    "\" \".join(input('enter something').split()[ : :2])"
   ]
  },
  {
   "cell_type": "markdown",
   "metadata": {},
   "source": [
    "wap to take string from the user and display the size of each word and also display the word with miximum size "
   ]
  },
  {
   "cell_type": "code",
   "execution_count": 35,
   "metadata": {},
   "outputs": [
    {
     "name": "stdout",
     "output_type": "stream",
     "text": [
      "we             2\n",
      "we(0)is largest\n",
      "are            3\n",
      "are(0)is largest\n",
      "awesome        7\n",
      "awesome(0)is largest\n"
     ]
    }
   ],
   "source": [
    "\n",
    "content= input ('enter something')\n",
    "largest_word=''\n",
    "largest_word_len=0\n",
    "for word in content.split():\n",
    "    if len(word) > largest_word_len:\n",
    "        largest_word=word \n",
    "        laregest_word_len=len(word)\n",
    "        print(f'{word:15}{len(word)}')\n",
    "    print(f'{largest_word}({largest_word_len})is largest')"
   ]
  },
  {
   "cell_type": "code",
   "execution_count": null,
   "metadata": {},
   "outputs": [],
   "source": []
  }
 ],
 "metadata": {
  "kernelspec": {
   "display_name": "Python 3",
   "language": "python",
   "name": "python3"
  },
  "language_info": {
   "codemirror_mode": {
    "name": "ipython",
    "version": 3
   },
   "file_extension": ".py",
   "mimetype": "text/x-python",
   "name": "python",
   "nbconvert_exporter": "python",
   "pygments_lexer": "ipython3",
   "version": "3.11.4"
  },
  "orig_nbformat": 4
 },
 "nbformat": 4,
 "nbformat_minor": 2
}
