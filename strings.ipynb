{
 "cells": [
  {
   "cell_type": "markdown",
   "metadata": {},
   "source": [
    "- creation\n",
    "- indexing and slicing\n",
    "- methods\n"
   ]
  },
  {
   "cell_type": "code",
   "execution_count": 314,
   "metadata": {},
   "outputs": [
    {
     "name": "stdout",
     "output_type": "stream",
     "text": [
      "okokokokokokokokokok\n",
      "100 <class 'str'>\n"
     ]
    }
   ],
   "source": [
    "s = \"hello\"\n",
    "s1 = 'world'\n",
    "msg= ''' this is a message \n",
    "with multiple lines '''\n",
    "w= 'ok' * 10\n",
    "print(w)\n",
    "a = 100\n",
    "b = str(a)\n",
    "print(b, type (b))"
   ]
  },
  {
   "cell_type": "code",
   "execution_count": 315,
   "metadata": {},
   "outputs": [
    {
     "name": "stdout",
     "output_type": "stream",
     "text": [
      "from turtle import*\n",
      "\n",
      "speed('fastest')\n",
      "pensize(2)\n",
      "bgcolor ('black')\n",
      "pencolor('white')\n",
      "colors=['red', 'yellow','blue','green','orange','purple' ]\n",
      "side=6\n",
      "for i in range(side):\n",
      "    fd(200)\n",
      "    for i in  range(side):\n",
      "        fd(100)\n",
      "        lt(360/side)\n",
      "        begin_fill( ) \n",
      "        fillcolor(colors[i%6]) \n",
      "        for i in range(side):\n",
      "            fd(50)\n",
      "            lt(360/side)\n",
      "        end_fill()\n",
      "    lt(360/side)\n",
      "\n",
      "hideturtle()\n",
      "mainloop()\n",
      " \n",
      "\n"
     ]
    }
   ],
   "source": [
    "data= open ('t4.ipy').read()\n",
    "print(data)"
   ]
  },
  {
   "cell_type": "code",
   "execution_count": 316,
   "metadata": {},
   "outputs": [
    {
     "name": "stdout",
     "output_type": "stream",
     "text": [
      "h\n",
      "e\n",
      "l\n",
      "l\n",
      "o\n",
      "o\n",
      "l\n"
     ]
    }
   ],
   "source": [
    "print(s[0])\n",
    "print(s[1])\n",
    "print(s[2])\n",
    "print(s[3])\n",
    "print(s[4])\n",
    "print(s[-1])\n",
    "print(s[-2])"
   ]
  },
  {
   "cell_type": "code",
   "execution_count": 317,
   "metadata": {},
   "outputs": [],
   "source": [
    "name = 'william shakespeare'\n"
   ]
  },
  {
   "cell_type": "code",
   "execution_count": 318,
   "metadata": {},
   "outputs": [
    {
     "name": "stdout",
     "output_type": "stream",
     "text": [
      "100\n",
      "will\n",
      "shakespeare\n",
      "william shakespeare\n",
      "wlimsaepae\n",
      "eraepsekahs mailliw\n",
      "william shakespeare\n",
      "waae\n"
     ]
    }
   ],
   "source": [
    "name [8:-6]\n",
    "print(a)\n",
    "b= name [:4]\n",
    "print(b)\n",
    "c = name [8:]\n",
    "print(c)\n",
    "d = name[:]\n",
    "print (d)\n",
    "e = name[::2]\n",
    "print(e)\n",
    "f = name [::-1]\n",
    "print (f)\n",
    "g = name [:: 1]\n",
    "print(g)\n",
    "h = name [:: 5]\n",
    "print (h) "
   ]
  },
  {
   "cell_type": "code",
   "execution_count": 319,
   "metadata": {},
   "outputs": [
    {
     "data": {
      "text/plain": [
       "'william shakesp'"
      ]
     },
     "execution_count": 319,
     "metadata": {},
     "output_type": "execute_result"
    }
   ],
   "source": [
    "name[0:-4]"
   ]
  },
  {
   "cell_type": "code",
   "execution_count": 320,
   "metadata": {},
   "outputs": [
    {
     "data": {
      "text/plain": [
       "'liam shak'"
      ]
     },
     "execution_count": 320,
     "metadata": {},
     "output_type": "execute_result"
    }
   ],
   "source": [
    "name [ 3:-7]"
   ]
  },
  {
   "cell_type": "code",
   "execution_count": 321,
   "metadata": {},
   "outputs": [
    {
     "data": {
      "text/plain": [
       "19"
      ]
     },
     "execution_count": 321,
     "metadata": {},
     "output_type": "execute_result"
    }
   ],
   "source": [
    "len(name)\n"
   ]
  },
  {
   "cell_type": "markdown",
   "metadata": {},
   "source": [
    "methods \n",
    "    - utility method\n",
    "        - count\n",
    "        - find\n",
    "        - replace\n",
    "        - split\n",
    "        - join\n",
    "        - strip \n",
    "    - formatting methods\n",
    "      - capatilize\n",
    "      - title\n",
    "      - upper\n",
    "      - lower\n",
    "      -swapcase\n",
    "      - casefold\n",
    "    - validation method\n",
    "      -isalnum\n",
    "      -isalpha\n",
    "      -isdigit\n",
    "      -islower\n",
    "      -isupper\n",
    "      -istitle\n",
    "      -isspace"
   ]
  },
  {
   "cell_type": "code",
   "execution_count": 322,
   "metadata": {},
   "outputs": [
    {
     "name": "stdout",
     "output_type": "stream",
     "text": [
      "9\n",
      "2\n",
      "1\n"
     ]
    }
   ],
   "source": [
    "msg= '''this is a story about a kingdom of \n",
    "south india lead by the hoyasala dynasty kings .'''\n",
    "\n",
    "print(msg.count('a'))\n",
    "print(msg.count('out'))\n",
    "print(msg.count('the'))\n"
   ]
  },
  {
   "cell_type": "code",
   "execution_count": 323,
   "metadata": {},
   "outputs": [
    {
     "name": "stdout",
     "output_type": "stream",
     "text": [
      "25\n"
     ]
    }
   ],
   "source": [
    "total_vowels = msg.count('a') + msg.count('e') + msg.count('i') + msg.count('o') + msg.count('u')\n",
    "print(total_vowels)"
   ]
  },
  {
   "cell_type": "code",
   "execution_count": 324,
   "metadata": {},
   "outputs": [
    {
     "name": "stdout",
     "output_type": "stream",
     "text": [
      "25\n"
     ]
    }
   ],
   "source": [
    "tvs = 0 \n",
    "for c in 'aeiou':\n",
    "    tvs += msg.count(c)\n",
    "print(tvs)"
   ]
  },
  {
   "cell_type": "code",
   "execution_count": 325,
   "metadata": {},
   "outputs": [
    {
     "data": {
      "text/plain": [
       "10"
      ]
     },
     "execution_count": 325,
     "metadata": {},
     "output_type": "execute_result"
    }
   ],
   "source": [
    "msg.find('story')"
   ]
  },
  {
   "cell_type": "code",
   "execution_count": 326,
   "metadata": {},
   "outputs": [
    {
     "data": {
      "text/plain": [
       "37"
      ]
     },
     "execution_count": 326,
     "metadata": {},
     "output_type": "execute_result"
    }
   ],
   "source": [
    "msg.find('out',19)"
   ]
  },
  {
   "cell_type": "code",
   "execution_count": 327,
   "metadata": {},
   "outputs": [
    {
     "data": {
      "text/plain": [
       "'this is a story abin a kingdom of \\nsinh india lead by the hoyasala dynasty kings .'"
      ]
     },
     "execution_count": 327,
     "metadata": {},
     "output_type": "execute_result"
    }
   ],
   "source": [
    "msg.replace('out', 'in')"
   ]
  },
  {
   "cell_type": "code",
   "execution_count": 328,
   "metadata": {},
   "outputs": [
    {
     "data": {
      "text/plain": [
       "'this is  story bout  kingdom of \\nsouth indi led by the hoysl dynsty kings .'"
      ]
     },
     "execution_count": 328,
     "metadata": {},
     "output_type": "execute_result"
    }
   ],
   "source": [
    "msg.replace('a', '')"
   ]
  },
  {
   "cell_type": "code",
   "execution_count": 329,
   "metadata": {},
   "outputs": [
    {
     "name": "stdout",
     "output_type": "stream",
     "text": [
      "this is a story about a kingdom of \n",
      "south india lead by the hoyasala dynasty kings .\n",
      "this is  story bout  kingdom of \n",
      "south indi led by the hoysl dynsty kings .\n",
      "this is a story about a kingdom of \n",
      "south india lead by the hoyasala dynasty kings .\n",
      "this is  story bout  kingdom of \n",
      "south indi ld by th hoysl dynsty kings .\n",
      "this is a story about a kingdom of \n",
      "south india lead by the hoyasala dynasty kings .\n",
      "ths s  story bout  kngdom of \n",
      "south nd ld by th hoysl dynsty kngs .\n",
      "this is a story about a kingdom of \n",
      "south india lead by the hoyasala dynasty kings .\n",
      "ths s  stry but  kngdm f \n",
      "suth nd ld by th hysl dynsty kngs .\n",
      "this is a story about a kingdom of \n",
      "south india lead by the hoyasala dynasty kings .\n",
      "ths s  stry bt  kngdm f \n",
      "sth nd ld by th hysl dynsty kngs .\n"
     ]
    }
   ],
   "source": [
    "msg_copy = msg\n",
    "for c in 'aeiou':\n",
    "    msg_copy=msg_copy.replace(c,'')\n",
    "    print(msg)\n",
    "    print(msg_copy)\n",
    "    "
   ]
  }
 ],
 "metadata": {
  "kernelspec": {
   "display_name": "Python 3",
   "language": "python",
   "name": "python3"
  },
  "language_info": {
   "codemirror_mode": {
    "name": "ipython",
    "version": 3
   },
   "file_extension": ".py",
   "mimetype": "text/x-python",
   "name": "python",
   "nbconvert_exporter": "python",
   "pygments_lexer": "ipython3",
   "version": "3.11.4"
  },
  "orig_nbformat": 4
 },
 "nbformat": 4,
 "nbformat_minor": 2
}
