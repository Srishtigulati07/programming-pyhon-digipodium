{
 "cells": [
  {
   "cell_type": "code",
   "execution_count": 130,
   "metadata": {},
   "outputs": [
    {
     "name": "stdout",
     "output_type": "stream",
     "text": [
      "1\n",
      "529\n",
      "25\n",
      "36\n",
      "441\n",
      "36\n",
      "36\n"
     ]
    }
   ],
   "source": [
    "nums=[1,23,5,6,21,6,6]# list of numbers\n",
    "for i in nums:\n",
    "    print (i**2)"
   ]
  },
  {
   "cell_type": "code",
   "execution_count": 131,
   "metadata": {},
   "outputs": [
    {
     "name": "stdout",
     "output_type": "stream",
     "text": [
      "1\n",
      "529\n",
      "25\n",
      "36\n",
      "441\n",
      "36\n",
      "36\n"
     ]
    }
   ],
   "source": [
    "for nums in nums :\n",
    "    print (nums**2)\n",
    "    "
   ]
  },
  {
   "cell_type": "markdown",
   "metadata": {},
   "source": [
    ". enumerate\n",
    ".zip"
   ]
  },
  {
   "cell_type": "code",
   "execution_count": 1,
   "metadata": {},
   "outputs": [
    {
     "name": "stdout",
     "output_type": "stream",
     "text": [
      "john 0\n",
      "jane 1\n",
      "jack 2\n",
      "jill 3\n"
     ]
    }
   ],
   "source": [
    "names =['john','jane','jack','jill']\n",
    "for idx,name in enumerate (names):\n",
    "    print(name, idx)"
   ]
  },
  {
   "cell_type": "code",
   "execution_count": 133,
   "metadata": {},
   "outputs": [
    {
     "name": "stdout",
     "output_type": "stream",
     "text": [
      "5\n",
      "18\n",
      "39\n",
      "68\n",
      "105\n"
     ]
    }
   ],
   "source": [
    "x=[2,4,6,8,10]\n",
    "y=[1,3,5,7,9]\n",
    "z=[3,6,9,12,15]\n",
    "for i,j,k in zip (x,y,z):\n",
    "    print (i*j+k)"
   ]
  },
  {
   "cell_type": "code",
   "execution_count": 134,
   "metadata": {},
   "outputs": [
    {
     "name": "stdout",
     "output_type": "stream",
     "text": [
      "intersteller        8.6\n",
      "the martin          8.0\n",
      "gravity             7\n",
      "apollo13            7\n"
     ]
    }
   ],
   "source": [
    "movies=['intersteller','the martin','gravity','apollo13']\n",
    "rating=[8.6,8.0,7,7,7.6]\n",
    "for name , star in zip (movies,rating ):\n",
    "    print (f'{name :20}{star}')"
   ]
  },
  {
   "cell_type": "markdown",
   "metadata": {},
   "source": [
    "break and continue"
   ]
  },
  {
   "cell_type": "code",
   "execution_count": 135,
   "metadata": {},
   "outputs": [
    {
     "name": "stdout",
     "output_type": "stream",
     "text": [
      "1 2 2 3 2 2 1 2 2 3 "
     ]
    }
   ],
   "source": [
    "x = [1,2,2,3,2,2,1,2,2,3,0,4,5,1,2,4,5]\n",
    "for i in x:\n",
    "    if i == 0:\n",
    "        break \n",
    "    print (i, end=' ')"
   ]
  },
  {
   "cell_type": "code",
   "execution_count": 136,
   "metadata": {},
   "outputs": [
    {
     "name": "stdout",
     "output_type": "stream",
     "text": [
      "1223221223"
     ]
    }
   ],
   "source": [
    "\n",
    "for i in x:\n",
    "    if i == 0:\n",
    "        break\n",
    "    print(i, end = '')\n",
    "else:\n",
    "    print(\"loop completed\")"
   ]
  },
  {
   "cell_type": "code",
   "execution_count": 137,
   "metadata": {},
   "outputs": [
    {
     "name": "stdout",
     "output_type": "stream",
     "text": [
      "1234567865 % 2 =1\n",
      "1234567865 % 3 =2\n",
      "1234567865 % 4 =1\n",
      "1234567865 % 5 =0\n",
      "not prime\n"
     ]
    }
   ],
   "source": [
    "num = int(input('enter a number:'))\n",
    "for i in range (2, num):\n",
    "    print(f'{num} % {i} ={num% i}')\n",
    "    if num % i ==0:\n",
    "        print ('not prime')\n",
    "        break\n",
    "else:\n",
    "    print('prime')"
   ]
  },
  {
   "cell_type": "code",
   "execution_count": 138,
   "metadata": {},
   "outputs": [
    {
     "name": "stdout",
     "output_type": "stream",
     "text": [
      "12351223312233"
     ]
    }
   ],
   "source": [
    "x=[1,2,3,None,5,1,None,2,23,None,3,1,2,2,3,None,3]\n",
    "for num in x:\n",
    "    if num is None:\n",
    "        continue\n",
    "    print (num, end= '')\n",
    "\n"
   ]
  },
  {
   "cell_type": "code",
   "execution_count": null,
   "metadata": {},
   "outputs": [],
   "source": [
    "while True :\n",
    "    user = input ('enter username:')\n",
    "    password = input('enter password:')\n",
    "    if user =='admin':\n",
    "        if password=='secret':\n",
    "            print('welcome admin')\n",
    "            break\n",
    "        else:\n",
    "            print('wrong password')\n",
    "    else:\n",
    "        print('wrong username')"
   ]
  },
  {
   "cell_type": "code",
   "execution_count": null,
   "metadata": {},
   "outputs": [],
   "source": []
  }
 ],
 "metadata": {
  "kernelspec": {
   "display_name": "Python 3",
   "language": "python",
   "name": "python3"
  },
  "language_info": {
   "codemirror_mode": {
    "name": "ipython",
    "version": 3
   },
   "file_extension": ".py",
   "mimetype": "text/x-python",
   "name": "python",
   "nbconvert_exporter": "python",
   "pygments_lexer": "ipython3",
   "version": "3.11.4"
  },
  "orig_nbformat": 4
 },
 "nbformat": 4,
 "nbformat_minor": 2
}
