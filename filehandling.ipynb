{
 "cells": [
  {
   "cell_type": "markdown",
   "metadata": {},
   "source": [
    "#file handling\n",
    "- open\n",
    "- read\n",
    "- write\n",
    "- append\n",
    "- close\n"
   ]
  },
  {
   "cell_type": "code",
   "execution_count": 1,
   "metadata": {},
   "outputs": [
    {
     "data": {
      "text/plain": [
       "<_io.TextIOWrapper name='t1.py' mode='r' encoding='cp1252'>"
      ]
     },
     "execution_count": 1,
     "metadata": {},
     "output_type": "execute_result"
    }
   ],
   "source": [
    "open('t1.py') #open and load into memory"
   ]
  },
  {
   "cell_type": "code",
   "execution_count": 5,
   "metadata": {},
   "outputs": [
    {
     "name": "stdout",
     "output_type": "stream",
     "text": [
      "from turtle import * \n",
      "\n",
      "speed ('slowest')\n",
      "pencolor ('red')\n",
      "pensize (3)\n",
      "#range (stop)\n",
      "#range(start,stop)\n",
      "#range(start,stop,step)\n",
      "\n",
      "for i in range (6, 100,5):\n",
      "    fd (120)\n",
      "    lt(360/6)\n",
      "    dot (10, 'green')\n",
      "    write (i,front=('calibri','20','bold'))\n",
      "\n",
      "    #reverse\n",
      "    goto(100,100)\n",
      "    for i in range (10,0,-1):\n",
      "        fd(60)\n",
      "        lt(360/10)\n",
      "        dot(20,'red')\n",
      "        write(i,font=('calibri','20','bold'))\n",
      "\n",
      "mainloop() \n"
     ]
    }
   ],
   "source": [
    "# reading a file using with statement\n",
    "with open ('t1.py') as file:\n",
    "    content = file.read()\n",
    "print(content)\n"
   ]
  },
  {
   "cell_type": "code",
   "execution_count": null,
   "metadata": {},
   "outputs": [],
   "source": [
    "#reading a file using with encoding and errors ignored \n",
    "with open('t1',encoding =)"
   ]
  },
  {
   "cell_type": "code",
   "execution_count": 6,
   "metadata": {},
   "outputs": [
    {
     "name": "stdout",
     "output_type": "stream",
     "text": [
      "file created successfully\n"
     ]
    }
   ],
   "source": [
    "#creating a text file\n",
    "data='life before death\\nstreangth before weakness /nJourney before destination'\n",
    "#'w' is the write mode\n",
    "with open ('oath.txt','w')as f:\n",
    "    print('file created successfully')\n",
    "    "
   ]
  },
  {
   "cell_type": "code",
   "execution_count": 11,
   "metadata": {},
   "outputs": [
    {
     "name": "stdout",
     "output_type": "stream",
     "text": [
      "kahani khatham\n"
     ]
    }
   ],
   "source": [
    "with open('kahani.txt','w') as file:\n",
    "  while True:\n",
    "    line=input('>>>')\n",
    "    if not line:\n",
    "        break\n",
    "    file.write (line+'\\n')\n",
    "    print('kahani khatham')\n",
    "    \n"
   ]
  },
  {
   "cell_type": "code",
   "execution_count": 12,
   "metadata": {},
   "outputs": [
    {
     "name": "stdout",
     "output_type": "stream",
     "text": [
      "file updated successfully\n"
     ]
    }
   ],
   "source": [
    "#adding content to existing file\n",
    "with open('oath.txt','a') as  file :\n",
    "    file.write ('\\nThe first ideal of knight Radiant\\n')\n",
    "    file.write('from the book:The way of kings\\n')\n",
    "    print('file updated successfully')"
   ]
  },
  {
   "cell_type": "markdown",
   "metadata": {},
   "source": [
    "os library"
   ]
  },
  {
   "cell_type": "code",
<<<<<<< HEAD
   "execution_count": 2,
=======
   "execution_count": 13,
>>>>>>> 9d4df43df50f5a67e2f191a13052d6bfbc296058
   "metadata": {},
   "outputs": [],
   "source": [
    "import os"
   ]
  },
  {
   "cell_type": "code",
<<<<<<< HEAD
   "execution_count": 3,
   "metadata": {},
   "outputs": [
    {
     "name": "stdout",
     "output_type": "stream",
     "text": [
      "all the contenr current dictionary:\n"
     ]
    },
    {
     "data": {
      "text/plain": [
       "['.git',\n",
       " 'basics.ipynb',\n",
       " 'conditions.ipynb',\n",
       " 'dictionary.ipynb',\n",
       " 'filehandling.ipynb',\n",
       " 'hello.py',\n",
       " 'kahani.txt',\n",
       " 'list.ipynb',\n",
       " 'loops.ipynb',\n",
       " 'oath.txt',\n",
       " 'strings.ipynb',\n",
       " 't1.py',\n",
       " 't2.py',\n",
       " 't3.ipy',\n",
       " 't4.ipy',\n",
       " 'tuples_n_set.ipynb']"
      ]
     },
     "execution_count": 3,
     "metadata": {},
     "output_type": "execute_result"
    }
   ],
   "source": [
    "print('all the contenr current dictionary:')\n",
    "os.listdir()"
   ]
  },
  {
   "cell_type": "code",
=======
>>>>>>> 9d4df43df50f5a67e2f191a13052d6bfbc296058
   "execution_count": 14,
   "metadata": {},
   "outputs": [
    {
     "name": "stdout",
     "output_type": "stream",
     "text": [
      "the current path is:\n",
      "c:\\Users\\srish\\OneDrive\\Desktop\\python\\programming pyhon\n"
     ]
    }
   ],
   "source": [
    "print(\"the current path is:\")\n",
    "print(os.getcwd())"
   ]
  },
  {
   "cell_type": "code",
<<<<<<< HEAD
   "execution_count": 4,
   "metadata": {},
   "outputs": [
    {
     "name": "stdout",
     "output_type": "stream",
     "text": [
      "All the content of some other location\n"
     ]
    },
    {
     "data": {
      "text/plain": [
       "['DUDownload', 'Sources']"
      ]
     },
     "execution_count": 4,
     "metadata": {},
     "output_type": "execute_result"
    }
   ],
   "source": [
    "print('All the content of some other location')\n",
    "path='c:/$WINDOWS.~BT/'\n",
    "os.listdir(path)"
   ]
  },
  {
   "cell_type": "code",
   "execution_count": null,
   "metadata": {},
   "outputs": [],
   "source": []
=======
   "execution_count": null,
   "metadata": {},
   "outputs": [],
   "source": [
    "print('All the content in ')"
   ]
>>>>>>> 9d4df43df50f5a67e2f191a13052d6bfbc296058
  }
 ],
 "metadata": {
  "kernelspec": {
   "display_name": "Python 3",
   "language": "python",
   "name": "python3"
  },
  "language_info": {
   "codemirror_mode": {
    "name": "ipython",
    "version": 3
   },
   "file_extension": ".py",
   "mimetype": "text/x-python",
   "name": "python",
   "nbconvert_exporter": "python",
   "pygments_lexer": "ipython3",
   "version": "3.11.4"
  },
  "orig_nbformat": 4
 },
 "nbformat": 4,
 "nbformat_minor": 2
}
