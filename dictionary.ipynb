{
 "cells": [
  {
   "cell_type": "code",
   "execution_count": 5,
   "metadata": {},
   "outputs": [],
   "source": [
    "raju=[56,90,34,34,56]\n",
    "\n",
    "\n",
    "raju_dict={\n",
    "    'english':56,\n",
    "    'Hindi' :90,\n",
    "    'Maths':34,\n",
    "    'Chemestry':34,\n",
    "    'Evs': 56,\n",
    "}\n"
   ]
  },
  {
   "cell_type": "code",
   "execution_count": 6,
   "metadata": {},
   "outputs": [],
   "source": [
    "company={\n",
    "    'emp001':{\n",
    "        'name':\"Amar Kumar\",\n",
    "        'designation':'Assistant III',\n",
    "        'salary':89000\n",
    "    },\n",
    "    'total_emp':2,\n",
    "    'department':'Accounts',\n",
    "    'vacancy':['clerk','manager','assistant I']\n",
    "}"
   ]
  },
  {
   "cell_type": "code",
   "execution_count": 7,
   "metadata": {},
   "outputs": [
    {
     "name": "stdout",
     "output_type": "stream",
     "text": [
      "{'emp001': {'name': 'Amar Kumar', 'designation': 'Assistant III', 'salary': 89000}, 'total_emp': 2, 'department': 'Accounts', 'vacancy': ['clerk', 'manager', 'assistant I'], 'name': 'Acme inc'}\n"
     ]
    }
   ],
   "source": [
    "company['name']='Acme inc'\n",
    "print(company)"
   ]
  },
  {
   "cell_type": "code",
   "execution_count": 8,
   "metadata": {},
   "outputs": [],
   "source": [
    "company['total_emp']=3\n",
    "company['emp003']={\n",
    "    'name':'Ajay verma',\n",
    "    'designation':'clerk',\n",
    "    'salary':45000\n",
    "}"
   ]
  },
  {
   "cell_type": "code",
   "execution_count": 11,
   "metadata": {},
   "outputs": [
    {
     "data": {
      "text/plain": [
       "{'emp001': {'name': 'Amar Kumar',\n",
       "  'designation': 'Assistant III',\n",
       "  'salary': 89000},\n",
       " 'total_emp': 3,\n",
       " 'department': 'Accounts',\n",
       " 'vacancy': ['clerk', 'manager', 'assistant I'],\n",
       " 'name': 'Acme inc',\n",
       " 'emp003': {'name': 'Ajay verma', 'designation': 'clerk', 'salary': 45000}}"
      ]
     },
     "execution_count": 11,
     "metadata": {},
     "output_type": "execute_result"
    }
   ],
   "source": [
    "company"
   ]
  },
  {
   "cell_type": "code",
   "execution_count": 12,
   "metadata": {},
   "outputs": [
    {
     "name": "stdout",
     "output_type": "stream",
     "text": [
      "<built-in method keys of dict object at 0x00000184BD6BC780>\n",
      "<built-in method values of dict object at 0x00000184BD6BC780>\n"
     ]
    }
   ],
   "source": [
    "print((company.keys))\n",
    "print((company.values))"
   ]
  },
  {
   "cell_type": "code",
   "execution_count": 13,
   "metadata": {},
   "outputs": [
    {
     "name": "stdout",
     "output_type": "stream",
     "text": [
      "dict_items([('emp001', {'name': 'Amar Kumar', 'designation': 'Assistant III', 'salary': 89000}), ('total_emp', 3), ('department', 'Accounts'), ('vacancy', ['clerk', 'manager', 'assistant I']), ('name', 'Acme inc'), ('emp003', {'name': 'Ajay verma', 'designation': 'clerk', 'salary': 45000})])\n"
     ]
    }
   ],
   "source": [
    "print(company.items())"
   ]
  },
  {
   "cell_type": "code",
   "execution_count": 20,
   "metadata": {},
   "outputs": [
    {
     "name": "stdout",
     "output_type": "stream",
     "text": [
      "emp001 {'name': 'Amar Kumar', 'designation': 'Assistant III', 'salary': 89000}\n",
      "total_emp 3\n",
      "department Accounts\n",
      "vacancy ['clerk', 'manager', 'assistant I']\n",
      "name Acme inc\n",
      "emp003 {'name': 'Ajay verma', 'designation': 'clerk', 'salary': 45000}\n"
     ]
    }
   ],
   "source": [
    "for i in company:\n",
    "    print(i,company[i])"
   ]
  },
  {
   "cell_type": "code",
   "execution_count": 21,
   "metadata": {},
   "outputs": [
    {
     "name": "stdout",
     "output_type": "stream",
     "text": [
      "emp001 {'name': 'Amar Kumar', 'designation': 'Assistant III', 'salary': 89000}\n",
      "total_emp 3\n",
      "department Accounts\n",
      "vacancy ['clerk', 'manager', 'assistant I']\n",
      "name Acme inc\n",
      "emp003 {'name': 'Ajay verma', 'designation': 'clerk', 'salary': 45000}\n"
     ]
    }
   ],
   "source": [
    "for k,v in company.items():\n",
    "    print(k,v)"
   ]
  },
  {
   "cell_type": "code",
   "execution_count": 22,
   "metadata": {},
   "outputs": [
    {
     "name": "stdout",
     "output_type": "stream",
     "text": [
      "emp001\n",
      "---> name\n",
      "---> designation\n",
      "---> salary\n",
      "emp001 {'name': 'Amar Kumar', 'designation': 'Assistant III', 'salary': 89000}\n",
      "emp003\n",
      "---> name\n",
      "---> designation\n",
      "---> salary\n",
      "emp003 {'name': 'Ajay verma', 'designation': 'clerk', 'salary': 45000}\n"
     ]
    }
   ],
   "source": [
    "for k, v in company.items():\n",
    "    if isinstance(v, dict):\n",
    "        print(k)\n",
    "        for key,values in v.items():\n",
    "            print(\"--->\",key,)\n",
    "        else:\n",
    "            print(k,v)"
   ]
  },
  {
   "cell_type": "code",
   "execution_count": null,
   "metadata": {},
   "outputs": [],
   "source": []
  },
  {
   "cell_type": "code",
   "execution_count": null,
   "metadata": {},
   "outputs": [],
   "source": []
  },
  {
   "cell_type": "code",
   "execution_count": null,
   "metadata": {},
   "outputs": [],
   "source": []
  }
 ],
 "metadata": {
  "kernelspec": {
   "display_name": "Python 3",
   "language": "python",
   "name": "python3"
  },
  "language_info": {
   "codemirror_mode": {
    "name": "ipython",
    "version": 3
   },
   "file_extension": ".py",
   "mimetype": "text/x-python",
   "name": "python",
   "nbconvert_exporter": "python",
   "pygments_lexer": "ipython3",
   "version": "3.11.4"
  },
  "orig_nbformat": 4
 },
 "nbformat": 4,
 "nbformat_minor": 2
}
