{
 "cells": [
  {
   "cell_type": "code",
   "execution_count": null,
   "metadata": {},
   "outputs": [],
   "source": [
    "*syntax*\n",
    "'''\n",
    "def fun_name([parameters]):\n",
    "    statement1\n",
    "    statement2\n",
    "    ....\n",
    "    statement n\n",
    "    [return value]"
   ]
  },
  {
   "cell_type": "markdown",
   "metadata": {},
   "source": [
    "types of functions\n",
    "1.non-parameterized\n",
    "2.value returning functions\n",
    "3.parameterized function\n",
    "  -positional required argument\n",
    "  -named argument\n",
    "  -dafult argument\n",
    "4.-paramaterized and value returning functions"
   ]
  },
  {
   "cell_type": "code",
   "execution_count": 1,
   "metadata": {},
   "outputs": [],
   "source": [
    "from random import random"
   ]
  },
  {
   "cell_type": "code",
   "execution_count": 2,
   "metadata": {},
   "outputs": [
    {
     "data": {
      "text/plain": [
       "0.7241757513199305"
      ]
     },
     "execution_count": 2,
     "metadata": {},
     "output_type": "execute_result"
    }
   ],
   "source": [
    "random()"
   ]
  },
  {
   "cell_type": "code",
   "execution_count": 4,
   "metadata": {},
   "outputs": [],
   "source": [
    "def inspireMe():\n",
    "    from random import choice\n",
    "    q=[\n",
    "        'The best way to predict the future is to invent it'\n",
    "        'The most important step is early'\n",
    "        'Hardwork beats talent'\n",
    "        'Early to bed'    \n",
    "    ]\n",
    "    return choice(q)"
   ]
  },
  {
   "cell_type": "code",
   "execution_count": 6,
   "metadata": {},
   "outputs": [
    {
     "data": {
      "text/plain": [
       "'The best way to predict the future is to invent itThe most important step is earlyHardwork beats talentEarly to bed'"
      ]
     },
     "execution_count": 6,
     "metadata": {},
     "output_type": "execute_result"
    }
   ],
   "source": [
    "inspireMe()"
   ]
  },
  {
   "cell_type": "code",
   "execution_count": 7,
   "metadata": {},
   "outputs": [
    {
     "name": "stdout",
     "output_type": "stream",
     "text": [
      "6\n",
      "5\n",
      "4\n"
     ]
    }
   ],
   "source": [
    "def dicey():\n",
    "    from random import randint\n",
    "    return randint(1,6)\n",
    "print(dicey())\n",
    "print(dicey())\n",
    "print(dicey())\n"
   ]
  },
  {
   "cell_type": "code",
   "execution_count": 8,
   "metadata": {},
   "outputs": [
    {
     "name": "stdout",
     "output_type": "stream",
     "text": [
      "1\n"
     ]
    }
   ],
   "source": [
    "roll=dicey()\n",
    "print(roll)"
   ]
  },
  {
   "cell_type": "code",
   "execution_count": 9,
   "metadata": {},
   "outputs": [
    {
     "data": {
      "text/plain": [
       "8"
      ]
     },
     "execution_count": 9,
     "metadata": {},
     "output_type": "execute_result"
    }
   ],
   "source": [
    "dicey()+dicey()*5"
   ]
  },
  {
   "cell_type": "code",
   "execution_count": 13,
   "metadata": {},
   "outputs": [],
   "source": [
    "def prime(num):\n",
    "    for i in range(2,num):\n",
    "        if num%i==0:\n",
    "            return False\n",
    "    return True\n",
    "\n",
    "    \n",
    "    \n",
    "    "
   ]
  },
  {
   "cell_type": "code",
   "execution_count": 14,
   "metadata": {},
   "outputs": [
    {
     "data": {
      "text/plain": [
       "True"
      ]
     },
     "execution_count": 14,
     "metadata": {},
     "output_type": "execute_result"
    }
   ],
   "source": [
    "prime(13)"
   ]
  },
  {
   "cell_type": "code",
   "execution_count": 15,
   "metadata": {},
   "outputs": [],
   "source": [
    "def SI(p,r,t):\n",
    "    ans=p*r*t/100\n",
    "    print(\"principle:\",p)\n",
    "    print(\"Rate:\",r)\n",
    "    print(\"Time\",t)\n",
    "    print(\"Simple Interset\",ans)"
   ]
  },
  {
   "cell_type": "code",
   "execution_count": 16,
   "metadata": {},
   "outputs": [
    {
     "name": "stdout",
     "output_type": "stream",
     "text": [
      "principle: 1200\n",
      "Rate: 5\n",
      "Time 10\n",
      "Simple Interset 600.0\n"
     ]
    }
   ],
   "source": [
    "SI(1200,5,10)"
   ]
  },
  {
   "cell_type": "code",
   "execution_count": 18,
   "metadata": {},
   "outputs": [
    {
     "data": {
      "text/plain": [
       "'hi'"
      ]
     },
     "execution_count": 18,
     "metadata": {},
     "output_type": "execute_result"
    }
   ],
   "source": [
    "from string import punctuation\n",
    "def clean_punc(data):\n",
    "    for p in punctuation:\n",
    "        data=data.replace(p,'')\n",
    "    return data\n",
    "\n",
    "data='#@h*(*(i*^&^&**#$))'\n",
    "clean_punc(data)\n",
    "\n"
   ]
  },
  {
   "cell_type": "code",
   "execution_count": null,
   "metadata": {},
   "outputs": [],
   "source": [
    "#the expanded way to write a function\n",
    "def summer (x:int , y:int, z:int)-> int:\n",
    "    '''A function that return that sum of x,y and z'''\n",
    "    return x+y+z"
   ]
  },
  {
   "cell_type": "code",
   "execution_count": 1,
   "metadata": {},
   "outputs": [],
   "source": [
    "def summer (x,y,z):\n",
    "    return x+y+z"
   ]
  },
  {
   "cell_type": "code",
   "execution_count": 5,
   "metadata": {},
   "outputs": [
    {
     "name": "stdout",
     "output_type": "stream",
     "text": [
      "60\n",
      "60\n"
     ]
    }
   ],
   "source": [
    "print(summer(10,20,30))\n",
    "print(summer (x=10,y=20,z=30)) # named parameters"
   ]
  },
  {
   "cell_type": "code",
   "execution_count": 14,
   "metadata": {},
   "outputs": [
    {
     "name": "stdout",
     "output_type": "stream",
     "text": [
      "80\n"
     ]
    }
   ],
   "source": [
    "a = int(input(\"enter a value:\"))\n",
    "b = int(input(\"enter a value:\"))\n",
    "c = int(input(\"enter a value\"))\n",
    "ans= summer(x=a,y=b,z=c)\n",
    "print(ans)\n"
   ]
  },
  {
   "cell_type": "code",
   "execution_count": 15,
   "metadata": {},
   "outputs": [
    {
     "data": {
      "text/plain": [
       "31"
      ]
     },
     "execution_count": 15,
     "metadata": {},
     "output_type": "execute_result"
    }
   ],
   "source": [
    "summer(y=10,x=20,z=1)\n"
   ]
  },
  {
   "cell_type": "code",
   "execution_count": 11,
   "metadata": {},
   "outputs": [
    {
     "name": "stdout",
     "output_type": "stream",
     "text": [
      "10\n",
      "20\n",
      "30\n",
      "60000\n"
     ]
    }
   ],
   "source": [
    "def multiplier (a,b=1,c=1,d=1):\n",
    "    return a*b*c*d\n",
    "\n",
    "print(multiplier(10))\n",
    "print(multiplier(10, b=2))\n",
    "print(multiplier(10,3))\n",
    "print(multiplier(10,d=10,c=20,b=30))"
   ]
  },
  {
   "cell_type": "code",
   "execution_count": 18,
   "metadata": {},
   "outputs": [
    {
     "name": "stdout",
     "output_type": "stream",
     "text": [
      "1\n"
     ]
    },
    {
     "ename": "UnboundLocalError",
     "evalue": "cannot access local variable 'rseult' where it is not associated with a value",
     "output_type": "error",
     "traceback": [
      "\u001b[1;31m---------------------------------------------------------------------------\u001b[0m",
      "\u001b[1;31mUnboundLocalError\u001b[0m                         Traceback (most recent call last)",
      "Cell \u001b[1;32mIn[18], line 8\u001b[0m\n\u001b[0;32m      5\u001b[0m     \u001b[39mreturn\u001b[39;00m result\n\u001b[0;32m      7\u001b[0m \u001b[39mprint\u001b[39m(multiplier())\n\u001b[1;32m----> 8\u001b[0m \u001b[39mprint\u001b[39m(multiplier(\u001b[39m10\u001b[39;49m))\n\u001b[0;32m      9\u001b[0m \u001b[39mprint\u001b[39m(multiplier(\u001b[39m10\u001b[39m,\u001b[39m20\u001b[39m))\n\u001b[0;32m     10\u001b[0m \u001b[39mprint\u001b[39m(multiplier(\u001b[39m10\u001b[39m,\u001b[39m2\u001b[39m,\u001b[39m3\u001b[39m,\u001b[39m1\u001b[39m,\u001b[39m2\u001b[39m,\u001b[39m4\u001b[39m,\u001b[39m5\u001b[39m)) \n",
      "Cell \u001b[1;32mIn[18], line 4\u001b[0m, in \u001b[0;36mmultiplier\u001b[1;34m(*nums)\u001b[0m\n\u001b[0;32m      2\u001b[0m result\u001b[39m=\u001b[39m\u001b[39m1\u001b[39m\n\u001b[0;32m      3\u001b[0m \u001b[39mfor\u001b[39;00m num \u001b[39min\u001b[39;00m nums:\n\u001b[1;32m----> 4\u001b[0m     rseult \u001b[39m*\u001b[39m\u001b[39m=\u001b[39m num\n\u001b[0;32m      5\u001b[0m \u001b[39mreturn\u001b[39;00m result\n",
      "\u001b[1;31mUnboundLocalError\u001b[0m: cannot access local variable 'rseult' where it is not associated with a value"
     ]
    }
   ],
   "source": [
    "def multiplier (*nums):\n",
    "    result=1\n",
    "    for num in nums:\n",
    "        rseult *= num\n",
    "    return result\n",
    "\n",
    "print(multiplier())\n",
    "print(multiplier(10))\n",
    "print(multiplier(10,20))\n",
    "print(multiplier(10,2,3,1,2,4,5)) \n",
    "print(multiplier)\n"
   ]
  },
  {
   "cell_type": "code",
   "execution_count": 19,
   "metadata": {},
   "outputs": [
    {
     "name": "stdout",
     "output_type": "stream",
     "text": [
      "a this\n",
      "b that\n",
      "c the other\n",
      "d something\n"
     ]
    }
   ],
   "source": [
    "def msg(**kwargs):\n",
    "    for k, v in kwargs.items():\n",
    "        print(k,v)\n",
    "msg(a='this',b='that', c='the other',d='something')"
   ]
  },
  {
   "cell_type": "code",
   "execution_count": 20,
   "metadata": {},
   "outputs": [
    {
     "data": {
      "text/plain": [
       "'record saved successfully'"
      ]
     },
     "execution_count": 20,
     "metadata": {},
     "output_type": "execute_result"
    }
   ],
   "source": [
    "def student_records(**students):\n",
    "    with open('records.txt', 'a') as file:\n",
    "        file.write('students details\\n')\n",
    "        for k,v in students.items():\n",
    "            file.write(f'{k}=>{v}\\n')\n",
    "        file.write('\\n')\n",
    "    return'record saved successfully'\n",
    "\n",
    "student_records(\n",
    "    alex=87,\n",
    "    arun=59,\n",
    "    rakesh=92,\n",
    "    suresh=99,\n",
    "    brijesh=67\n",
    ")"
   ]
  },
  {
   "cell_type": "code",
   "execution_count": 21,
   "metadata": {},
   "outputs": [
    {
     "data": {
      "text/plain": [
       "'record saved successfully'"
      ]
     },
     "execution_count": 21,
     "metadata": {},
     "output_type": "execute_result"
    }
   ],
   "source": [
    "student_records(\n",
    "    ali=59,\n",
    "    ansh=64,\n",
    "    anmol=70,\n",
    ")\n"
   ]
  },
  {
   "cell_type": "markdown",
   "metadata": {},
   "source": [
    "f(x) = x**2+x*10+x\n",
    "g(x,y)=x**y ++ y**2 + x*y\n",
    "F(2)\n",
    "f(3)"
   ]
  },
  {
   "cell_type": "code",
   "execution_count": 22,
   "metadata": {},
   "outputs": [
    {
     "name": "stdout",
     "output_type": "stream",
     "text": [
      "42\n",
      "60\n",
      "80\n",
      "37\n",
      "61\n"
     ]
    }
   ],
   "source": [
    "f= lambda x: x**2 + x*10 + x\n",
    "g= lambda x, y:x**2 + y**2 + x*y\n",
    "print(f(3))\n",
    "print(f(4))\n",
    "print(f(5))\n",
    "print(g(3,4))\n",
    "print(g(4,5))"
   ]
  },
  {
   "cell_type": "markdown",
   "metadata": {},
   "source": [
    "map,reduce"
   ]
  },
  {
   "cell_type": "code",
   "execution_count": 24,
   "metadata": {},
   "outputs": [
    {
     "name": "stdout",
     "output_type": "stream",
     "text": [
      "[276, 60, 102, 126, 1230, 3752, 8900]\n"
     ]
    }
   ],
   "source": [
    "data=[12,4,6,7,30,56,89]\n",
    "data2= list(map (f,data))\n",
    "print(data2)"
   ]
  },
  {
   "cell_type": "code",
   "execution_count": null,
   "metadata": {},
   "outputs": [],
   "source": []
  }
 ],
 "metadata": {
  "kernelspec": {
   "display_name": "Python 3",
   "language": "python",
   "name": "python3"
  },
  "language_info": {
   "codemirror_mode": {
    "name": "ipython",
    "version": 3
   },
   "file_extension": ".py",
   "mimetype": "text/x-python",
   "name": "python",
   "nbconvert_exporter": "python",
   "pygments_lexer": "ipython3",
   "version": "3.11.4"
  },
  "orig_nbformat": 4
 },
 "nbformat": 4,
 "nbformat_minor": 2
}
