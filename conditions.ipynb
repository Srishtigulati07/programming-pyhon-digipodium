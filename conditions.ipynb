{
 "cells": [
  {
   "cell_type": "markdown",
   "metadata": {},
   "source": [
    "conditions \n",
    "- if\n",
    "- if else\n",
    "- if elif else \n",
    "- match case"
   ]
  },
  {
   "cell_type": "code",
   "execution_count": 2,
   "metadata": {},
   "outputs": [],
   "source": [
    "x= 10\n",
    "y = 3"
   ]
  },
  {
   "cell_type": "code",
   "execution_count": 3,
   "metadata": {},
   "outputs": [
    {
     "name": "stdout",
     "output_type": "stream",
     "text": [
      "x is greater than y \n",
      "that is true\n",
      "this is always printed\n"
     ]
    }
   ],
   "source": [
    "if x>y:\n",
    "    print(\"x is greater than y \")\n",
    "    print('that is true')\n",
    "    print('this is always printed')"
   ]
  },
  {
   "cell_type": "code",
   "execution_count": 4,
   "metadata": {},
   "outputs": [],
   "source": [
    "if x==y:\n",
    "      print('wow')"
   ]
  },
  {
   "cell_type": "code",
   "execution_count": 5,
   "metadata": {},
   "outputs": [
    {
     "name": "stdout",
     "output_type": "stream",
     "text": [
      "x is greater than y and x is greater than 8\n"
     ]
    }
   ],
   "source": [
    "if x > y and x > 8 :\n",
    "    print ('x is greater than y and x is greater than 8')"
   ]
  },
  {
   "cell_type": "markdown",
   "metadata": {},
   "source": [
    "true value\n",
    "-True \n",
    "-Non- zero numbers\n",
    "-Non -empty strings\n",
    "\n",
    "False value \n",
    "-false\n",
    "-0\n",
    "-0.0\n",
    "-none\n",
    "-empty strings\n"
   ]
  },
  {
   "cell_type": "code",
   "execution_count": 6,
   "metadata": {},
   "outputs": [
    {
     "name": "stdout",
     "output_type": "stream",
     "text": [
      "you entered srishti\n"
     ]
    }
   ],
   "source": [
    "name= input ('enter a name')\n",
    "if name :\n",
    "    print(f'you entered {name}')\n",
    "else:\n",
    "    print('you did not enter a name')"
   ]
  },
  {
   "cell_type": "code",
   "execution_count": 7,
   "metadata": {},
   "outputs": [
    {
     "name": "stdout",
     "output_type": "stream",
     "text": [
      "even\n"
     ]
    }
   ],
   "source": [
    "x= int (input('enter a number'))\n",
    "if x % 2 == 0:\n",
    "    print('even')\n",
    "else:\n",
    "    print('odd')"
   ]
  },
  {
   "cell_type": "code",
   "execution_count": 8,
   "metadata": {},
   "outputs": [
    {
     "name": "stdout",
     "output_type": "stream",
     "text": [
      "welcome admin\n"
     ]
    }
   ],
   "source": [
    "username = input ('enter username')\n",
    "password = input ('enter password')\n",
    "if username == 'admin':\n",
    "    if password == '123 admin':\n",
    "        print ('welcome admin')\n",
    "    else:\n",
    "        print('invalid password')\n",
    "else:\n",
    "   print('invalid username')"
   ]
  },
  {
   "cell_type": "code",
   "execution_count": 9,
   "metadata": {},
   "outputs": [
    {
     "name": "stdout",
     "output_type": "stream",
     "text": [
      "holiday\n"
     ]
    }
   ],
   "source": [
    "day = input ('enter day')\n",
    "if day == 'monday':\n",
    "    print('monday')\n",
    "elif day == 'tuesday' :\n",
    "    print ('tuesday')\n",
    "elif day == 'wednesday':\n",
    "    print ('wednesday')\n",
    "else:\n",
    "    print('holiday')\n"
   ]
  },
  {
   "cell_type": "code",
   "execution_count": 10,
   "metadata": {},
   "outputs": [
    {
     "name": "stdout",
     "output_type": "stream",
     "text": [
      "holiday\n"
     ]
    }
   ],
   "source": [
    "day = input('enter day')\n",
    "match day:\n",
    "    case 'monday':\n",
    "        print('time to work')\n",
    "    case 'tueday' 'wednesday':\n",
    "        print ('time to work again')\n",
    "    case 'thursday':\n",
    "        print ('almost there')\n",
    "    case 'friday':\n",
    "        print('weekend,not really')\n",
    "    case _:\n",
    "        print ('holiday')"
   ]
  },
  {
   "cell_type": "code",
   "execution_count": 11,
   "metadata": {},
   "outputs": [
    {
     "name": "stdout",
     "output_type": "stream",
     "text": [
      "your astrological sign is\n"
     ]
    }
   ],
   "source": [
    "month = input('enter month')\n",
    "match day :\n",
    "    case 'january':\n",
    "        print ('virgo')\n",
    "    case 'february':\n",
    "        print ('capricorn')\n",
    "    case 'march':\n",
    "        print('aquarius')\n",
    "    case 'april':\n",
    "        print ('pieces')\n",
    "    case 'may':\n",
    "        print('tauras')\n",
    "    case 'june':\n",
    "        print ('libra')\n",
    "    case 'july':\n",
    "        print ('aries')\n",
    "    case 'august':\n",
    "        print ('leo')\n",
    "    case 'september':\n",
    "        print ('scorpio')\n",
    "    case _:\n",
    "        print ('your astrological sign is')\n",
    "     "
   ]
  },
  {
   "cell_type": "code",
   "execution_count": null,
   "metadata": {},
   "outputs": [],
   "source": []
  }
 ],
 "metadata": {
  "kernelspec": {
   "display_name": "Python 3",
   "language": "python",
   "name": "python3"
  },
  "language_info": {
   "codemirror_mode": {
    "name": "ipython",
    "version": 3
   },
   "file_extension": ".py",
   "mimetype": "text/x-python",
   "name": "python",
   "nbconvert_exporter": "python",
   "pygments_lexer": "ipython3",
   "version": "3.11.4"
  },
  "orig_nbformat": 4
 },
 "nbformat": 4,
 "nbformat_minor": 2
}
