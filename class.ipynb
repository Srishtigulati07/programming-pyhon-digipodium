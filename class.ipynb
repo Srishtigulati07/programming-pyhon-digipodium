{
 "cells": [
  {
   "cell_type": "code",
   "execution_count": 2,
   "metadata": {},
   "outputs": [],
   "source": [
    "class student:\n",
    "    def __init__(self,name,Klass,rollno,stream=\"commerce\"):\n",
    "        self.name=name\n",
    "        self.Klass=Klass\n",
    "        self.rollno=rollno\n",
    "        self.stream=stream\n",
    "        self.marks={}\n",
    "\n",
    "\n",
    "\n",
    "    def think(self,object):\n",
    "        print(f\"{self.name}I am thinking about{object}\")\n",
    "\n",
    "    def getmarks (self,subject,value):\n",
    "        self.marks[subject]= value   "
   ]
  },
  {
   "cell_type": "code",
   "execution_count": 7,
   "metadata": {},
   "outputs": [
    {
     "ename": "AttributeError",
     "evalue": "'student' object has no attribute 'setmarks'",
     "output_type": "error",
     "traceback": [
      "\u001b[1;31m---------------------------------------------------------------------------\u001b[0m",
      "\u001b[1;31mAttributeError\u001b[0m                            Traceback (most recent call last)",
      "Cell \u001b[1;32mIn[7], line 4\u001b[0m\n\u001b[0;32m      1\u001b[0m srishti \u001b[39m=\u001b[39m student(\u001b[39m\"\u001b[39m\u001b[39msrishti\u001b[39m\u001b[39m\"\u001b[39m,\u001b[39m\"\u001b[39m\u001b[39m12\u001b[39m\u001b[39m\"\u001b[39m,\u001b[39m\"\u001b[39m\u001b[39m13\u001b[39m\u001b[39m\"\u001b[39m,\u001b[39m\"\u001b[39m\u001b[39mcse\u001b[39m\u001b[39m\"\u001b[39m)\n\u001b[0;32m      2\u001b[0m aditi \u001b[39m=\u001b[39m student(\u001b[39m\"\u001b[39m\u001b[39maditi\u001b[39m\u001b[39m\"\u001b[39m,\u001b[39m\"\u001b[39m\u001b[39m11\u001b[39m\u001b[39m\"\u001b[39m,\u001b[39m\"\u001b[39m\u001b[39m23\u001b[39m\u001b[39m\"\u001b[39m)\n\u001b[1;32m----> 4\u001b[0m aditi\u001b[39m.\u001b[39;49msetmarks(\u001b[39m'\u001b[39m\u001b[39mhindi\u001b[39m\u001b[39m'\u001b[39m,\u001b[39m90\u001b[39m)\n\u001b[0;32m      5\u001b[0m aditi\u001b[39m.\u001b[39msetmarks(\u001b[39m'\u001b[39m\u001b[39menglish\u001b[39m\u001b[39m'\u001b[39m,\u001b[39m95\u001b[39m)\n\u001b[0;32m      6\u001b[0m aditi\u001b[39m.\u001b[39msetmarks(\u001b[39m'\u001b[39m\u001b[39mmath\u001b[39m\u001b[39m'\u001b[39m,\u001b[39m55\u001b[39m)\n",
      "\u001b[1;31mAttributeError\u001b[0m: 'student' object has no attribute 'setmarks'"
     ]
    }
   ],
   "source": [
    "srishti = student(\"srishti\",\"12\",\"13\",\"cse\")\n",
    "aditi = student(\"aditi\",\"11\",\"23\")\n",
    "\n",
    "aditi.setmarks('hindi',90)\n",
    "aditi.setmarks('english',95)\n",
    "aditi.setmarks('math',55)\n",
    "srishti.setmarks('hindi',89)\n",
    "srishti.setmarks('english',87)\n",
    "srishti.setmarks('math',78)"
   ]
  },
  {
   "cell_type": "code",
   "execution_count": 6,
   "metadata": {},
   "outputs": [
    {
     "name": "stdout",
     "output_type": "stream",
     "text": [
      "{}\n",
      "{}\n"
     ]
    }
   ],
   "source": [
    "print(aditi.marks)\n",
    "print(srishti.marks)"
   ]
  },
  {
   "cell_type": "code",
   "execution_count": 5,
   "metadata": {},
   "outputs": [
    {
     "name": "stdout",
     "output_type": "stream",
     "text": [
      "srishtiI am thinking aboutKisi k baare me nhi\n"
     ]
    }
   ],
   "source": [
    "srishti.think(\"Kisi k baare me nhi\")"
   ]
  },
  {
   "cell_type": "markdown",
   "metadata": {},
   "source": [
    "INHERITANCE"
   ]
  },
  {
   "cell_type": "code",
   "execution_count": 20,
   "metadata": {},
   "outputs": [],
   "source": [
    "class Superlist(list):\n",
    "    def all_index(self,search):\n",
    "        idxs = []\n",
    "        st_idx = 0\n",
    "        for i in range(self.count(search)):\n",
    "            pos = self.index(search,start_idx)\n",
    "            idxs.append(pos)\n",
    "            start_idx = pos+1\n",
    "        return idxs"
   ]
  },
  {
   "cell_type": "code",
   "execution_count": 21,
   "metadata": {},
   "outputs": [
    {
     "name": "stdout",
     "output_type": "stream",
     "text": [
      "[1, 2, 3, 4, 5, 6, 7, 8, 9, 5, 5, 66, 7]\n",
      "[1, 2, 3, 4, 5, 6, 7, 8, 9, 5, 5, 66, 7, 20]\n"
     ]
    }
   ],
   "source": [
    "x=Superlist([1,2,3,4,5,6,7,8,9,5,5,66,7])\n",
    "print(x)\n",
    "x.append(20)\n",
    "print(x)"
   ]
  },
  {
   "cell_type": "code",
   "execution_count": 23,
   "metadata": {},
   "outputs": [
    {
     "ename": "UnboundLocalError",
     "evalue": "cannot access local variable 'start_idx' where it is not associated with a value",
     "output_type": "error",
     "traceback": [
      "\u001b[1;31m---------------------------------------------------------------------------\u001b[0m",
      "\u001b[1;31mUnboundLocalError\u001b[0m                         Traceback (most recent call last)",
      "Cell \u001b[1;32mIn[23], line 1\u001b[0m\n\u001b[1;32m----> 1\u001b[0m x\u001b[39m.\u001b[39;49mall_index(\u001b[39m2\u001b[39;49m)\n",
      "Cell \u001b[1;32mIn[20], line 6\u001b[0m, in \u001b[0;36mSuperlist.all_index\u001b[1;34m(self, search)\u001b[0m\n\u001b[0;32m      4\u001b[0m st_idx \u001b[39m=\u001b[39m \u001b[39m0\u001b[39m\n\u001b[0;32m      5\u001b[0m \u001b[39mfor\u001b[39;00m i \u001b[39min\u001b[39;00m \u001b[39mrange\u001b[39m(\u001b[39mself\u001b[39m\u001b[39m.\u001b[39mcount(search)):\n\u001b[1;32m----> 6\u001b[0m     pos \u001b[39m=\u001b[39m \u001b[39mself\u001b[39m\u001b[39m.\u001b[39mindex(search,start_idx)\n\u001b[0;32m      7\u001b[0m     idxs\u001b[39m.\u001b[39mappend(pos)\n\u001b[0;32m      8\u001b[0m     start_idx \u001b[39m=\u001b[39m pos\u001b[39m+\u001b[39m\u001b[39m1\u001b[39m\n",
      "\u001b[1;31mUnboundLocalError\u001b[0m: cannot access local variable 'start_idx' where it is not associated with a value"
     ]
    }
   ],
   "source": [
    "x.all_index(2)"
   ]
  },
  {
   "cell_type": "code",
   "execution_count": null,
   "metadata": {},
   "outputs": [],
   "source": []
  }
 ],
 "metadata": {
  "kernelspec": {
   "display_name": "Python 3",
   "language": "python",
   "name": "python3"
  },
  "language_info": {
   "codemirror_mode": {
    "name": "ipython",
    "version": 3
   },
   "file_extension": ".py",
   "mimetype": "text/x-python",
   "name": "python",
   "nbconvert_exporter": "python",
   "pygments_lexer": "ipython3",
   "version": "3.11.4"
  },
  "orig_nbformat": 4
 },
 "nbformat": 4,
 "nbformat_minor": 2
}
